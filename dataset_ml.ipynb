{
 "cells": [
  {
   "cell_type": "code",
   "execution_count": null,
   "metadata": {},
   "outputs": [],
   "source": [
    "import pandas as pd\n",
    "import os\n",
    "\n",
    "# Ruta a la carpeta donde están los archivos CSV\n",
    "ruta_csv = \"Data/csv\"  # Cambia esta ruta a tu carpeta de CSVs\n",
    "\n",
    "# Lista para almacenar los DataFrames\n",
    "dfs = []\n",
    "\n",
    "# Iterar sobre todos los archivos CSV en la carpeta\n",
    "for archivo in os.listdir(ruta_csv):\n",
    "    if archivo.endswith(\".csv\"):\n",
    "        archivo_path = os.path.join(ruta_csv, archivo)\n",
    "        print(f\"Levantando archivo: {archivo_path}\")\n",
    "        \n",
    "        # Leer el archivo CSV y agregarlo a la lista\n",
    "        df = pd.read_csv(archivo_path)\n",
    "        dfs.append(df)\n",
    "\n",
    "# Concatenar todos los DataFrames en uno solo\n",
    "df_completo = pd.concat(dfs, ignore_index=True)\n",
    "\n",
    "# Mostrar la información del DataFrame\n",
    "print(\"Información del DataFrame:\")\n",
    "print(df_completo.info())\n",
    "\n",
    "# Mostrar las primeras filas del DataFrame\n",
    "print(\"Primeras filas del DataFrame:\")\n",
    "print(df_completo.head())\n"
   ]
  },
  {
   "cell_type": "code",
   "execution_count": 3,
   "metadata": {},
   "outputs": [],
   "source": [
    "# Guardar el DataFrame en un nuevo archivo CSV\n",
    "df_completo.to_csv(\"Data/csv_completo.csv\", index=False)"
   ]
  },
  {
   "cell_type": "code",
   "execution_count": 15,
   "metadata": {},
   "outputs": [
    {
     "name": "stderr",
     "output_type": "stream",
     "text": [
      "C:\\Users\\Usuario\\AppData\\Local\\Temp\\ipykernel_8072\\2868210097.py:1: DtypeWarning: Columns (6) have mixed types. Specify dtype option on import or set low_memory=False.\n",
      "  df_completo = pd.read_csv(\"Data/csv_completo.csv\")\n"
     ]
    }
   ],
   "source": [
    "df_completo = pd.read_csv(\"Data/csv_completo.csv\")"
   ]
  },
  {
   "cell_type": "code",
   "execution_count": 16,
   "metadata": {},
   "outputs": [
    {
     "data": {
      "text/plain": [
       "Index(['Invoice/Item Number', 'Date', 'Store Number', 'Store Name', 'Address',\n",
       "       'City', 'Zip Code', 'Store Location', 'County Number', 'County',\n",
       "       'Category', 'Category Name', 'Vendor Number', 'Vendor Name',\n",
       "       'Item Number', 'Item Description', 'Pack', 'Bottle Volume (ml)',\n",
       "       'State Bottle Cost', 'State Bottle Retail', 'Bottles Sold',\n",
       "       'Sale (Dollars)', 'Volume Sold (Liters)', 'Volume Sold (Gallons)',\n",
       "       'sale_date'],\n",
       "      dtype='object')"
      ]
     },
     "execution_count": 16,
     "metadata": {},
     "output_type": "execute_result"
    }
   ],
   "source": [
    "df_completo.columns"
   ]
  },
  {
   "cell_type": "code",
   "execution_count": 17,
   "metadata": {},
   "outputs": [
    {
     "name": "stdout",
     "output_type": "stream",
     "text": [
      "sale_date\n",
      "2023-02-27    2502\n",
      "2023-02-03    2342\n",
      "2023-02-12    2252\n",
      "2023-02-11    2251\n",
      "2023-02-21    2239\n",
      "              ... \n",
      "2023-08-08     704\n",
      "2023-05-31     701\n",
      "2023-03-30     697\n",
      "2023-10-31     693\n",
      "2023-10-01     685\n",
      "Name: count, Length: 365, dtype: int64\n",
      "   sale_date  Month Sale (Dollars)\n",
      "0 2023-06-03      6         $28.08\n",
      "1 2023-05-21      5         $66.24\n",
      "2 2023-11-09     11         $22.20\n",
      "3 2023-02-05      2         $67.14\n",
      "4 2023-02-26      2        $175.92\n"
     ]
    }
   ],
   "source": [
    "import numpy as np\n",
    "\n",
    "# Asegurarnos de que el DataFrame está cargado y tiene la columna 'sale_date'\n",
    "df_completo = df_completo.copy()\n",
    "\n",
    "# Definir los meses del rango diciembre 2023 - noviembre 2024\n",
    "inicio = pd.to_datetime(\"2023-12-01\")\n",
    "fin = pd.to_datetime(\"2024-11-30\")\n",
    "\n",
    "# Generar los meses y pesos (más peso en los meses de invierno: diciembre, enero, febrero)\n",
    "meses = [12, 1, 2, 3, 4, 5, 6, 7, 8, 9, 10, 11]\n",
    "pesos = [2, 2, 2, 1, 1, 1, 1, 1, 1, 1, 1, 1]  # Sesgo hacia los meses de invierno\n",
    "\n",
    "# Calcular el número de registros por mes (aproximadamente)\n",
    "num_registros = len(df_completo)\n",
    "num_registros_por_mes = num_registros // len(meses)\n",
    "\n",
    "# Crear una lista para almacenar las nuevas fechas\n",
    "nuevas_fechas = []\n",
    "\n",
    "# Asignar fechas a cada registro con el sesgo\n",
    "for mes, peso in zip(meses, pesos):\n",
    "    # Generar fechas aleatorias para el mes específico\n",
    "    fechas_mes = pd.date_range(start=f\"{inicio.year}-{mes:02d}-01\", \n",
    "                               end=f\"{inicio.year}-{mes:02d}-{pd.Timestamp(year=inicio.year, month=mes, day=1).days_in_month}\",\n",
    "                               freq=\"D\")\n",
    "    \n",
    "    # Aplicar el peso para generar más fechas en los meses de invierno\n",
    "    num_fechas = int(num_registros_por_mes * peso / sum(pesos))  # Ajustamos el número de registros\n",
    "    fechas_aleatorias = np.random.choice(fechas_mes, num_fechas, replace=True)\n",
    "    \n",
    "    nuevas_fechas.extend(fechas_aleatorias)\n",
    "\n",
    "# Si las fechas generadas son menos que el total de registros, duplicamos las fechas aleatorias\n",
    "if len(nuevas_fechas) < num_registros:\n",
    "    nuevas_fechas = np.random.choice(nuevas_fechas, num_registros, replace=True)\n",
    "\n",
    "# Asignar las nuevas fechas al DataFrame\n",
    "df_completo['sale_date'] = nuevas_fechas[:len(df_completo)]\n",
    "\n",
    "# Verificar la distribución de fechas en los registros\n",
    "print(df_completo['sale_date'].value_counts())\n",
    "\n",
    "# Verificar si la columna 'Sale_Dollars' existe y si no, mostrar un mensaje\n",
    "if 'Sale (Dollars)' not in df_completo.columns:\n",
    "    print(\"La columna 'Sale (Dollars)' no se encuentra en el DataFrame.\")\n",
    "else:\n",
    "    # Extraer el mes de la columna 'sale_date'\n",
    "    df_completo['Month'] = df_completo['sale_date'].dt.month\n",
    "    \n",
    "    # Verificar las primeras filas del DataFrame\n",
    "    print(df_completo[['sale_date', 'Month', 'Sale (Dollars)']].head())\n",
    "\n"
   ]
  },
  {
   "cell_type": "code",
   "execution_count": 18,
   "metadata": {},
   "outputs": [],
   "source": [
    "# Guardar el DataFrame en un nuevo archivo CSV\n",
    "df_completo.to_csv(\"Data/csv_completo.csv\", index=False)"
   ]
  }
 ],
 "metadata": {
  "kernelspec": {
   "display_name": "Python 3",
   "language": "python",
   "name": "python3"
  },
  "language_info": {
   "codemirror_mode": {
    "name": "ipython",
    "version": 3
   },
   "file_extension": ".py",
   "mimetype": "text/x-python",
   "name": "python",
   "nbconvert_exporter": "python",
   "pygments_lexer": "ipython3",
   "version": "3.9.9"
  }
 },
 "nbformat": 4,
 "nbformat_minor": 2
}
