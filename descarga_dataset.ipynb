{
 "cells": [
  {
   "cell_type": "code",
   "execution_count": 1,
   "metadata": {},
   "outputs": [
    {
     "data": {
      "text/plain": [
       "[bhadramohit/customer-shopping-latest-trends-dataset,\n",
       " hopesb/student-depression-dataset,\n",
       " gauthamvijayaraj/spotify-tracks-dataset-updated-every-week,\n",
       " mujtabamatin/air-quality-and-pollution-assessment,\n",
       " zafarali27/netflix-movies-and-tv-shows,\n",
       " denkuznetz/housing-prices-regression,\n",
       " ashutosh598/shoes-price-for-various-brands,\n",
       " malaiarasugraj/global-health-statistics,\n",
       " steve1215rogg/student-lifestyle-dataset,\n",
       " qubdidata/auto-market-dataset,\n",
       " steve1215rogg/e-commerce-dataset,\n",
       " muhammaddawood42/nvidia-stock-data,\n",
       " ikynahidwin/depression-student-dataset,\n",
       " mohitkumar282/used-car-dataset,\n",
       " ziya07/psychological-state-identification-dataset,\n",
       " srisaisuhassanisetty/fake-job-postings,\n",
       " imranalishahh/marketing-and-product-performance-dataset,\n",
       " luisheitorribeiro/covid-19-fatalities-data,\n",
       " nadeemajeedch/employee-performance-and-salary-dataset,\n",
       " itzusama/amazon-stock-market-data-2015-2024]"
      ]
     },
     "execution_count": 1,
     "metadata": {},
     "output_type": "execute_result"
    }
   ],
   "source": [
    "from kaggle.api.kaggle_api_extended import KaggleApi\n",
    "\n",
    "# Inicializa la API de Kaggle\n",
    "api = KaggleApi()\n",
    "api.authenticate()\n",
    "\n",
    "# Verifica la autenticación llamando a la lista de datasets\n",
    "api.dataset_list()"
   ]
  },
  {
   "cell_type": "code",
   "execution_count": 2,
   "metadata": {},
   "outputs": [
    {
     "name": "stdout",
     "output_type": "stream",
     "text": [
      "Dataset URL: https://www.kaggle.com/datasets/residentmario/iowa-liquor-sales\n"
     ]
    }
   ],
   "source": [
    "# Inicia la API de Kaggle y descarga el dataset\n",
    "api.dataset_download_files('residentmario/iowa-liquor-sales', path='./Data/', unzip=True)\n"
   ]
  }
 ],
 "metadata": {
  "kernelspec": {
   "display_name": "Python 3",
   "language": "python",
   "name": "python3"
  },
  "language_info": {
   "codemirror_mode": {
    "name": "ipython",
    "version": 3
   },
   "file_extension": ".py",
   "mimetype": "text/x-python",
   "name": "python",
   "nbconvert_exporter": "python",
   "pygments_lexer": "ipython3",
   "version": "3.8.0"
  }
 },
 "nbformat": 4,
 "nbformat_minor": 2
}
