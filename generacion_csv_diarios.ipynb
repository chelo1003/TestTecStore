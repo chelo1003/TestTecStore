{
 "cells": [
  {
   "cell_type": "code",
   "execution_count": null,
   "metadata": {},
   "outputs": [],
   "source": [
    "import os\n",
    "\n",
    "# Configura HADOOP_HOME y PATH en el entorno del cuaderno\n",
    "os.environ[\"HADOOP_HOME\"] = \"C:\\\\hadoop\"\n",
    "os.environ[\"PATH\"] += os.pathsep + os.path.join(os.environ[\"HADOOP_HOME\"], \"bin\")\n",
    "\n",
    "# Verifica las variables\n",
    "print(\"HADOOP_HOME:\", os.getenv(\"HADOOP_HOME\"))\n",
    "print(\"PATH:\", os.getenv(\"PATH\"))"
   ]
  },
  {
   "cell_type": "code",
   "execution_count": 3,
   "metadata": {},
   "outputs": [],
   "source": [
    "from pyspark.sql import SparkSession\n",
    "from pyspark.sql.functions import to_date\n",
    "import os\n",
    "\n",
    "\n",
    "# Inicia la sesión de Spark\n",
    "spark = SparkSession.builder \\\n",
    "    .appName(\"IowaLiquorSales\") \\\n",
    "    .config(\"spark.jars.packages\", \"io.delta:delta-core_2.12:2.4.0\") \\\n",
    "    .config(\"spark.hadoop.fs.file.impl\", \"org.apache.hadoop.fs.LocalFileSystem\") \\\n",
    "    .config(\"spark.hadoop.fs.azure.enable.native-hadoop\", \"false\") \\\n",
    "    .config(\"spark.hadoop.io.native.lib\", \"false\") \\\n",
    "    .getOrCreate()\n",
    "\n",
    "\n",
    "# Ruta al archivo CSV descargado\n",
    "csv_path = \"./Data/Iowa_Liquor_Sales.csv\""
   ]
  },
  {
   "cell_type": "code",
   "execution_count": null,
   "metadata": {},
   "outputs": [],
   "source": [
    "spark.stop()  # Detiene la sesión de Spark activa\n"
   ]
  },
  {
   "cell_type": "code",
   "execution_count": 4,
   "metadata": {},
   "outputs": [
    {
     "name": "stdout",
     "output_type": "stream",
     "text": [
      "+-------------------+----------+------------+--------------------+-------------------+------------+--------+--------------------+-------------+-------+--------+-------------+-------------+--------------------+-----------+--------------------+----+------------------+-----------------+-------------------+------------+--------------+--------------------+---------------------+\n",
      "|Invoice/Item Number|      Date|Store Number|          Store Name|            Address|        City|Zip Code|      Store Location|County Number| County|Category|Category Name|Vendor Number|         Vendor Name|Item Number|    Item Description|Pack|Bottle Volume (ml)|State Bottle Cost|State Bottle Retail|Bottles Sold|Sale (Dollars)|Volume Sold (Liters)|Volume Sold (Gallons)|\n",
      "+-------------------+----------+------------+--------------------+-------------------+------------+--------+--------------------+-------------+-------+--------+-------------+-------------+--------------------+-----------+--------------------+----+------------------+-----------------+-------------------+------------+--------------+--------------------+---------------------+\n",
      "|       S29198800001|11/20/2015|        2191|      Keokuk Spirits|          1013 MAIN|      KEOKUK|   52632|1013 MAIN\\nKEOKUK...|           56|    Lee|    NULL|         NULL|          255| Wilson Daniels Ltd.|        297|Templeton Rye w/F...|   6|               750|           $18.09|             $27.14|           6|       $162.84|                 4.5|                 1.19|\n",
      "|       S29195400002|11/21/2015|        2205|Ding's Honk And H...|   900 E WASHINGTON|    CLARINDA|   51632|900 E WASHINGTON\\...|           73|   Page|    NULL|         NULL|          255| Wilson Daniels Ltd.|        297|Templeton Rye w/F...|   6|               750|           $18.09|             $27.14|          12|       $325.68|                 9.0|                 2.38|\n",
      "|       S29050300001|11/16/2015|        3549|Quicker Liquor Store|       1414 48TH ST|FORT MADISON|   52627|1414 48TH ST\\nFOR...|           56|    Lee|    NULL|         NULL|          130|Disaronno Interna...|        249|Disaronno Amarett...|  20|               150|            $6.40|              $9.60|           2|        $19.20|                 0.3|                 0.08|\n",
      "|       S28867700001|11/04/2015|        2513|Hy-Vee Food Store...|     812  S 1ST AVE|   IOWA CITY|   52240|812 S 1ST AVE\\nIO...|           52|Johnson|    NULL|         NULL|           65|     Jim Beam Brands|        237|Knob Creek w/ Cry...|   3|              1750|           $35.55|             $53.34|           3|       $160.02|                5.25|                 1.39|\n",
      "|       S29050800001|11/17/2015|        3942|    Twin Town Liquor|104 HIGHWAY 30 WEST|      TOLEDO|   52342|104 HIGHWAY 30 WE...|           86|   Tama|    NULL|         NULL|          130|Disaronno Interna...|        249|Disaronno Amarett...|  20|               150|            $6.40|              $9.60|           2|        $19.20|                 0.3|                 0.08|\n",
      "+-------------------+----------+------------+--------------------+-------------------+------------+--------+--------------------+-------------+-------+--------+-------------+-------------+--------------------+-----------+--------------------+----+------------------+-----------------+-------------------+------------+--------------+--------------------+---------------------+\n",
      "only showing top 5 rows\n",
      "\n",
      "root\n",
      " |-- Invoice/Item Number: string (nullable = true)\n",
      " |-- Date: string (nullable = true)\n",
      " |-- Store Number: integer (nullable = true)\n",
      " |-- Store Name: string (nullable = true)\n",
      " |-- Address: string (nullable = true)\n",
      " |-- City: string (nullable = true)\n",
      " |-- Zip Code: string (nullable = true)\n",
      " |-- Store Location: string (nullable = true)\n",
      " |-- County Number: integer (nullable = true)\n",
      " |-- County: string (nullable = true)\n",
      " |-- Category: integer (nullable = true)\n",
      " |-- Category Name: string (nullable = true)\n",
      " |-- Vendor Number: integer (nullable = true)\n",
      " |-- Vendor Name: string (nullable = true)\n",
      " |-- Item Number: integer (nullable = true)\n",
      " |-- Item Description: string (nullable = true)\n",
      " |-- Pack: integer (nullable = true)\n",
      " |-- Bottle Volume (ml): integer (nullable = true)\n",
      " |-- State Bottle Cost: string (nullable = true)\n",
      " |-- State Bottle Retail: string (nullable = true)\n",
      " |-- Bottles Sold: integer (nullable = true)\n",
      " |-- Sale (Dollars): string (nullable = true)\n",
      " |-- Volume Sold (Liters): double (nullable = true)\n",
      " |-- Volume Sold (Gallons): double (nullable = true)\n",
      "\n"
     ]
    }
   ],
   "source": [
    "# Leer el archivo CSV con opciones adicionales para evitar la desanidación y manejo de comas\n",
    "df = spark.read.option(\"header\", \"true\") \\\n",
    "    .option(\"inferSchema\", \"true\") \\\n",
    "    .option(\"quote\", \"\\\"\") \\\n",
    "    .option(\"escape\", \"\\\"\") \\\n",
    "    .option(\"multiLine\", \"true\") \\\n",
    "    .csv(csv_path)\n",
    "\n",
    "# Mostrar las primeras filas para ver cómo quedó el dataframe\n",
    "df.show(5)\n",
    "df.printSchema()\n"
   ]
  },
  {
   "cell_type": "code",
   "execution_count": 5,
   "metadata": {},
   "outputs": [
    {
     "name": "stdout",
     "output_type": "stream",
     "text": [
      "+-------------------+----------+------------+--------------------+-------------------+------------+--------+--------------------+-------------+-------+--------+-------------+-------------+--------------------+-----------+--------------------+----+------------------+-----------------+-------------------+------------+--------------+--------------------+---------------------+\n",
      "|Invoice/Item Number|      Date|Store Number|          Store Name|            Address|        City|Zip Code|      Store Location|County Number| County|Category|Category Name|Vendor Number|         Vendor Name|Item Number|    Item Description|Pack|Bottle Volume (ml)|State Bottle Cost|State Bottle Retail|Bottles Sold|Sale (Dollars)|Volume Sold (Liters)|Volume Sold (Gallons)|\n",
      "+-------------------+----------+------------+--------------------+-------------------+------------+--------+--------------------+-------------+-------+--------+-------------+-------------+--------------------+-----------+--------------------+----+------------------+-----------------+-------------------+------------+--------------+--------------------+---------------------+\n",
      "|       S29198800001|11/20/2015|        2191|      Keokuk Spirits|          1013 MAIN|      KEOKUK|   52632|1013 MAIN\\nKEOKUK...|           56|    Lee|    NULL|         NULL|          255| Wilson Daniels Ltd.|        297|Templeton Rye w/F...|   6|               750|           $18.09|             $27.14|           6|       $162.84|                 4.5|                 1.19|\n",
      "|       S29195400002|11/21/2015|        2205|Ding's Honk And H...|   900 E WASHINGTON|    CLARINDA|   51632|900 E WASHINGTON\\...|           73|   Page|    NULL|         NULL|          255| Wilson Daniels Ltd.|        297|Templeton Rye w/F...|   6|               750|           $18.09|             $27.14|          12|       $325.68|                 9.0|                 2.38|\n",
      "|       S29050300001|11/16/2015|        3549|Quicker Liquor Store|       1414 48TH ST|FORT MADISON|   52627|1414 48TH ST\\nFOR...|           56|    Lee|    NULL|         NULL|          130|Disaronno Interna...|        249|Disaronno Amarett...|  20|               150|            $6.40|              $9.60|           2|        $19.20|                 0.3|                 0.08|\n",
      "|       S28867700001|11/04/2015|        2513|Hy-Vee Food Store...|     812  S 1ST AVE|   IOWA CITY|   52240|812 S 1ST AVE\\nIO...|           52|Johnson|    NULL|         NULL|           65|     Jim Beam Brands|        237|Knob Creek w/ Cry...|   3|              1750|           $35.55|             $53.34|           3|       $160.02|                5.25|                 1.39|\n",
      "|       S29050800001|11/17/2015|        3942|    Twin Town Liquor|104 HIGHWAY 30 WEST|      TOLEDO|   52342|104 HIGHWAY 30 WE...|           86|   Tama|    NULL|         NULL|          130|Disaronno Interna...|        249|Disaronno Amarett...|  20|               150|            $6.40|              $9.60|           2|        $19.20|                 0.3|                 0.08|\n",
      "+-------------------+----------+------------+--------------------+-------------------+------------+--------+--------------------+-------------+-------+--------+-------------+-------------+--------------------+-----------+--------------------+----+------------------+-----------------+-------------------+------------+--------------+--------------------+---------------------+\n",
      "only showing top 5 rows\n",
      "\n"
     ]
    }
   ],
   "source": [
    "from pyspark.sql.functions import regexp_replace\n",
    "\n",
    "# Limpiar la columna 'Store Location' reemplazando las comas por un espacio (o cualquier otro carácter)\n",
    "df = df.withColumn(\"Store Location\", regexp_replace(df[\"Store Location\"], \",\", \" \"))\n",
    "\n",
    "# Verificar que la columna 'Store Location' haya sido limpiada correctamente\n",
    "df.show(5)"
   ]
  },
  {
   "cell_type": "code",
   "execution_count": null,
   "metadata": {},
   "outputs": [],
   "source": [
    "# Ruta de salida simplificada\n",
    "output_folder = \"./Data/csv\"\n",
    "# os.makedirs(output_folder, exist_ok=True)\n",
    "\n",
    "# Arreglar la columna de ubicación de la tienda (según lo que mencionaste)\n",
    "df = df.withColumn(\"sale_date\", to_date(df[\"Date\"], \"MM/dd/yyyy\"))\n",
    "\n",
    "# Filtrar los registros con fechas nulas\n",
    "df = df.filter(df[\"sale_date\"].isNotNull())\n",
    "\n",
    "# Obtiene las fechas únicas en el dataset\n",
    "unique_dates = [row[\"sale_date\"] for row in df.select(\"sale_date\").distinct().collect()]\n",
    "\n",
    "# Itera por cada fecha y guarda los registros correspondientes en un archivo CSV usando Pandas\n",
    "for date in unique_dates:\n",
    "    date_str = date.strftime(\"%Y-%m-%d\")  # Convierte la fecha a string con el formato solicitado\n",
    "    output_file = os.path.join(output_folder, f\"proyecto_{date_str}.csv\")  # Ruta para el archivo CSV\n",
    "\n",
    "    # Filtra los registros para la fecha actual\n",
    "    daily_df = df.filter(df[\"sale_date\"] == date)\n",
    "\n",
    "    # Convertir el DataFrame de Spark a Pandas\n",
    "    pandas_df = daily_df.toPandas()\n",
    "\n",
    "    # Escribe el archivo CSV usando Pandas\n",
    "    pandas_df.to_csv(output_file, index=False)\n",
    "    print(f\"Archivo generado: {output_file}\")\n",
    "\n",
    "print(f\"Proceso completado. Archivos generados en {output_folder}\")\n"
   ]
  }
 ],
 "metadata": {
  "kernelspec": {
   "display_name": "Python 3",
   "language": "python",
   "name": "python3"
  },
  "language_info": {
   "codemirror_mode": {
    "name": "ipython",
    "version": 3
   },
   "file_extension": ".py",
   "mimetype": "text/x-python",
   "name": "python",
   "nbconvert_exporter": "python",
   "pygments_lexer": "ipython3",
   "version": "3.8.0"
  }
 },
 "nbformat": 4,
 "nbformat_minor": 2
}
