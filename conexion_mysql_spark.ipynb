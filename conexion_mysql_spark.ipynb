{
 "cells": [
  {
   "cell_type": "code",
   "execution_count": null,
   "metadata": {},
   "outputs": [],
   "source": [
    "from pyspark.sql import SparkSession\n",
    "import os\n",
    "\n",
    "# Asegúrate de que Java y Spark estén bien configurados\n",
    "os.environ['JAVA_HOME'] = \"C:/Program Files/Java/jdk-11\"  # Ajusta la ruta según tu instalación de Java\n",
    "\n",
    "# Crear la sesión de Spark e incluir el JAR del conector JDBC y habilitar los logs de eventos\n",
    "spark = SparkSession.builder \\\n",
    "    .appName(\"SparkMySQLIntegration\") \\\n",
    "    .config(\"spark.jars\", \"C:/spark/jars/mysql-connector-java-8.0.33.jar\") \\\n",
    "    .getOrCreate()\n",
    "\n",
    "# Verifica la versión de Spark\n",
    "print(spark.version)"
   ]
  },
  {
   "cell_type": "code",
   "execution_count": null,
   "metadata": {},
   "outputs": [],
   "source": [
    "mysql_url = \"jdbc:mysql://localhost:3306/store\"\n",
    "mysql_properties = {\n",
    "    \"user\": \"root\",  # Cambia 'tu_usuario'\n",
    "    \"password\": \"1234\",  # Cambia 'tu_contraseña'\n",
    "    \"driver\": \"com.mysql.cj.jdbc.Driver\"\n",
    "}\n",
    "\n",
    "# Crear un DataFrame de Spark con datos de ejemplo\n",
    "data = [(\"2023-12-15\", 1), (\"2023-12-16\", 2), (\"2023-12-17\", 3)]\n",
    "columns = [\"date\", \"value\"]\n",
    "df = spark.createDataFrame(data, columns)\n",
    "\n",
    "# Escribir el DataFrame en la tabla 'liquor_sales' en MySQL\n",
    "df.write.jdbc(url=mysql_url, table=\"liquor_sales\", mode=\"append\", properties=mysql_properties)\n",
    "\n",
    "print(\"Datos escritos en MySQL en la tabla 'liquor_sales'\")\n"
   ]
  }
 ],
 "metadata": {
  "kernelspec": {
   "display_name": "Python 3",
   "language": "python",
   "name": "python3"
  },
  "language_info": {
   "codemirror_mode": {
    "name": "ipython",
    "version": 3
   },
   "file_extension": ".py",
   "mimetype": "text/x-python",
   "name": "python",
   "nbconvert_exporter": "python",
   "pygments_lexer": "ipython3",
   "version": "3.9.9"
  }
 },
 "nbformat": 4,
 "nbformat_minor": 2
}
